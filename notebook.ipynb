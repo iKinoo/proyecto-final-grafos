{
 "cells": [
  {
   "cell_type": "markdown",
   "metadata": {},
   "source": [
    "Importamos librerías"
   ]
  },
  {
   "cell_type": "code",
   "execution_count": null,
   "metadata": {},
   "outputs": [],
   "source": [
    "import json\n",
    "import networkx as nx\n",
    "import matplotlib.pyplot as plt"
   ]
  },
  {
   "cell_type": "markdown",
   "metadata": {},
   "source": [
    "Creamos el grafo"
   ]
  },
  {
   "cell_type": "code",
   "execution_count": null,
   "metadata": {},
   "outputs": [],
   "source": [
    "graph = nx.Graph()"
   ]
  },
  {
   "cell_type": "markdown",
   "metadata": {},
   "source": [
    "Definimos una función para capturar los datos de las respuestas de las API de GitHub"
   ]
  },
  {
   "cell_type": "code",
   "execution_count": null,
   "metadata": {},
   "outputs": [],
   "source": [
    "def populate_graph(\n",
    "    sample_name_file: str, node_type: str, number_of_files, start_from=1\n",
    ") -> None:\n",
    "    \"\"\"Función que recibe el nombre del archivo sin numerado ni extensión y el tipo de nodos principales que va a recorrer\"\"\"\n",
    "\n",
    "    for i in range(start_from, number_of_files + 1):\n",
    "\n",
    "        if node_type == \"PullRequest\":\n",
    "            items = \"pullRequests\"\n",
    "        elif node_type == \"Issue\":\n",
    "            items = \"issues\"\n",
    "        # print(f\"processing response_pr{i}.json\")\n",
    "\n",
    "        with open(f\"{sample_name_file}{i}.json\", encoding='utf-8') as f:\n",
    "\n",
    "            data = json.load(f)\n",
    "\n",
    "            for item in data[\"data\"][\"repository\"][items][\"nodes\"]:\n",
    "\n",
    "                try:\n",
    "                    # print(f\"{i} - {item[\"number\"]} - {item[\"title\"]}\")\n",
    "                    # add author\n",
    "\n",
    "                    graph.add_node(item[\"author\"][\"login\"], type=\"user\")\n",
    "\n",
    "                    # add item\n",
    "\n",
    "                    graph.add_node(\n",
    "                        item[\"number\"],\n",
    "                        type=node_type,\n",
    "                        title=item[\"title\"],\n",
    "                        state=item[\"state\"],\n",
    "                        author=item[\"author\"][\"login\"],\n",
    "                        url=item[\"url\"],\n",
    "                    )\n",
    "\n",
    "                    # add edge author -> pr\n",
    "\n",
    "                    graph.add_edge(item[\"author\"][\"login\"], item[\"number\"], type=\"author\")\n",
    "\n",
    "                    for itemReferenced in item[\"timelineItems\"][\"nodes\"]:\n",
    "\n",
    "                        autor = itemReferenced[\"source\"][\"author\"][\"login\"]\n",
    "\n",
    "                        title = itemReferenced[\"source\"][\"title\"]\n",
    "\n",
    "                        number = itemReferenced[\"source\"][\"number\"]\n",
    "\n",
    "                        url = itemReferenced[\"source\"][\"url\"]\n",
    "\n",
    "                        state = itemReferenced[\"source\"][\"state\"]\n",
    "\n",
    "                        type = itemReferenced[\"source\"][\"__typename\"]\n",
    "\n",
    "                        # add author\n",
    "\n",
    "                        graph.add_node(autor, type=\"user\")\n",
    "\n",
    "                        # add pr\n",
    "\n",
    "                        graph.add_node(\n",
    "                            number,\n",
    "                            type=type,\n",
    "                            title=title,\n",
    "                            state=state,\n",
    "                            author=autor,\n",
    "                            url=url,\n",
    "                        )\n",
    "\n",
    "                        # add edge author -> pr\n",
    "\n",
    "                        graph.add_edge(autor, number, type=\"author\")\n",
    "\n",
    "                        # add edge item -> item\n",
    "\n",
    "                        graph.add_edge(item[\"number\"], number, type=\"referenced\")\n",
    "\n",
    "                except Exception:\n",
    "                    pass"
   ]
  },
  {
   "cell_type": "markdown",
   "metadata": {},
   "source": [
    "Analizamos tanto Pull-Requests como Issues y Usuarios con la función anterior"
   ]
  },
  {
   "cell_type": "code",
   "execution_count": null,
   "metadata": {},
   "outputs": [],
   "source": [
    "populate_graph(\"json/prs/response_pr\", \"PullRequest\", 57)"
   ]
  },
  {
   "cell_type": "code",
   "execution_count": null,
   "metadata": {},
   "outputs": [],
   "source": [
    "populate_graph(\"json/issues/response_issue\", \"Issue\", 90, start_from=0)"
   ]
  },
  {
   "cell_type": "markdown",
   "metadata": {},
   "source": [
    "Mostramos el grafo"
   ]
  },
  {
   "cell_type": "code",
   "execution_count": null,
   "metadata": {},
   "outputs": [],
   "source": [
    "import matplotlib.pyplot as plt\n",
    "import networkx as nx\n",
    "\n",
    "# Define node colors based on node type\n",
    "node_colors = {\n",
    "    'user': 'blue',\n",
    "    'PullRequest': 'green',\n",
    "    'Issue': 'red'\n",
    "}\n",
    "degrees = dict(graph.degree())\n",
    "nodes_sizes = [degrees[node] * 100 for node in graph.nodes]\n",
    "# Create a new figure\n",
    "plt.figure(figsize=(100, 100))\n",
    "\n",
    "# Draw the graph with colored nodes\n",
    "nx.draw(\n",
    "    graph,\n",
    "    with_labels=True,\n",
    "    node_color=[node_colors.get(graph.nodes[node]['type'], 'gray') for node in graph.nodes],\n",
    "    # nodes_sizes=[node_degrees[node] * 100 for node in graph.nodes],\n",
    "    node_size=nodes_sizes\n",
    "    #font_size=3,\n",
    "    # font_color='white'\n",
    ")\n",
    "\n",
    "# Show the plot\n",
    "plt.show()\n",
    "#plt.figure(figsize=(100, 100))\n",
    "#nx.draw(graph, with_labels=True)"
   ]
  },
  {
   "cell_type": "markdown",
   "metadata": {},
   "source": [
    "Centralidad de grados\n"
   ]
  },
  {
   "cell_type": "code",
   "execution_count": null,
   "metadata": {},
   "outputs": [],
   "source": [
    "centralidad_de_grados = nx.degree_centrality(graph)\n",
    "nodos_ordenados = sorted(centralidad_de_grados.items(), key= lambda elemento: elemento[1], reverse=True)\n",
    "\n",
    "for nodo, centralidad in nodos_ordenados:\n",
    "    if graph.nodes[nodo][\"type\"] == \"user\":\n",
    "        tipo = graph.nodes[nodo][\"type\"]\n",
    "        print(f\"{nodo}: Tipo: {tipo} - centralidad: {centralidad}\")\n",
    "\n",
    "\n",
    "\n"
   ]
  },
  {
   "cell_type": "code",
   "execution_count": null,
   "metadata": {},
   "outputs": [],
   "source": []
  },
  {
   "cell_type": "markdown",
   "metadata": {},
   "source": [
    "Centralidad de cercanía"
   ]
  },
  {
   "cell_type": "code",
   "execution_count": null,
   "metadata": {},
   "outputs": [],
   "source": [
    "centralidad_de_cercania = nx.closeness_centrality(graph)\n",
    "nodos_ordenados = sorted(centralidad_de_cercania.items(), key= lambda elemento: elemento[1], reverse=True)\n",
    "\n"
   ]
  },
  {
   "cell_type": "code",
   "execution_count": null,
   "metadata": {},
   "outputs": [],
   "source": [
    "for nodo, centralidad in nodos_ordenados:\n",
    "    if graph.nodes[nodo][\"type\"] == \"user\":\n",
    "        tipo = graph.nodes[nodo][\"type\"]\n",
    "        print(f\"{nodo}: Tipo: {tipo} - centralidad: {centralidad}\")"
   ]
  },
  {
   "cell_type": "markdown",
   "metadata": {},
   "source": [
    "Centralidad de intermediación"
   ]
  },
  {
   "cell_type": "code",
   "execution_count": null,
   "metadata": {},
   "outputs": [],
   "source": [
    "centralidad_de_intermediacion = nx.betweenness_centrality(graph)\n",
    "nodos_ordenados = sorted(centralidad_de_intermediacion.items(), key= lambda elemento: elemento[1], reverse=True)\n"
   ]
  },
  {
   "cell_type": "code",
   "execution_count": null,
   "metadata": {},
   "outputs": [],
   "source": [
    "\n",
    "for nodo, centralidad in nodos_ordenados:\n",
    "    if graph.nodes[nodo][\"type\"] == \"Issue\":\n",
    "        tipo = graph.nodes[nodo][\"type\"]\n",
    "        print(f\"{nodo}: Tipo: {tipo} - centralidad: {centralidad}\")"
   ]
  },
  {
   "cell_type": "markdown",
   "metadata": {},
   "source": [
    "Grado de los nodos"
   ]
  },
  {
   "cell_type": "code",
   "execution_count": null,
   "metadata": {},
   "outputs": [],
   "source": [
    "print(\"Numero de grados\", graph.number_of_edges())"
   ]
  },
  {
   "cell_type": "markdown",
   "metadata": {},
   "source": [
    "Detección de comunidades"
   ]
  },
  {
   "cell_type": "code",
   "execution_count": null,
   "metadata": {},
   "outputs": [],
   "source": [
    "\n",
    "import networkx as nx\n",
    "import matplotlib.pyplot as plt\n",
    "import community as community_louvain\n",
    "# Detectar comunidades utilizando el algoritmo de Louvain\n",
    "partition = community_louvain.best_partition(graph)\n",
    "\n",
    "# Extraer las comunidades\n",
    "communities = {}\n",
    "for node, community_id in partition.items():\n",
    "    if community_id not in communities:\n",
    "        communities[community_id] = []\n",
    "    communities[community_id].append(node)\n",
    "    \n",
    "# Asignar colores a las comunidades\n",
    "community_colors = [partition[node] for node in graph.nodes()]\n",
    "\n",
    "# Dibujar el grafo con los nodos coloreados según su comunidad\n",
    "pos = nx.spring_layout(graph)\n",
    "plt.figure(figsize=(100, 100))\n",
    "nx.draw(graph, pos, node_color=community_colors, with_labels=True, cmap=plt.cm.rainbow)\n",
    "plt.show()"
   ]
  },
  {
   "cell_type": "markdown",
   "metadata": {},
   "source": [
    "Componentes conectados\n"
   ]
  },
  {
   "cell_type": "code",
   "execution_count": null,
   "metadata": {},
   "outputs": [],
   "source": [
    "nx.is_connected(graph)"
   ]
  },
  {
   "cell_type": "code",
   "execution_count": null,
   "metadata": {},
   "outputs": [],
   "source": [
    "import matplotlib.pyplot as plt\n",
    "import networkx as nx\n",
    "\n",
    "def dibujar_grafo_con_base_en_centralidad(centralidad_base, proporcion):    # Define node colors based on node type\n",
    "    node_colors = {\n",
    "        'user': 'blue',\n",
    "        'PullRequest': 'green',\n",
    "        'Issue': 'red'\n",
    "    }\n",
    "\n",
    "    # Define node sizes based on centralidad\n",
    "    node_sizes = [centralidad_base[node] * proporcion for node in graph.nodes]\n",
    "\n",
    "    # Create a new figure\n",
    "    plt.figure(figsize=(50, 50))\n",
    "\n",
    "    # Draw the graph with colored nodes and sized nodes\n",
    "    nx.draw(\n",
    "        graph,\n",
    "        with_labels=True,\n",
    "        node_color=[node_colors.get(graph.nodes[node]['type'], 'gray') for node in graph.nodes],\n",
    "        node_size=node_sizes,\n",
    "        font_size=8,\n",
    "    )\n",
    "\n",
    "    # Show the plot\n",
    "    plt.show()"
   ]
  },
  {
   "cell_type": "code",
   "execution_count": null,
   "metadata": {},
   "outputs": [],
   "source": [
    "dibujar_grafo_con_base_en_centralidad(centralidad_de_grados, 1000000)\n"
   ]
  },
  {
   "cell_type": "code",
   "execution_count": null,
   "metadata": {},
   "outputs": [],
   "source": [
    "dibujar_grafo_con_base_en_centralidad(centralidad_de_cercania, 1000)"
   ]
  },
  {
   "cell_type": "code",
   "execution_count": null,
   "metadata": {},
   "outputs": [],
   "source": [
    "dibujar_grafo_con_base_en_centralidad(centralidad_de_intermediacion, 100000)"
   ]
  },
  {
   "cell_type": "markdown",
   "metadata": {},
   "source": [
    "Componentes conectados"
   ]
  },
  {
   "cell_type": "code",
   "execution_count": null,
   "metadata": {},
   "outputs": [],
   "source": [
    "connected_components = list(nx.connected_components(graph))\n",
    "nx.is_connected(graph)\n",
    "\n",
    "connected_components = list(nx.connected_components(graph))\n",
    "\n",
    "print(\"Componentes conectados:\")\n",
    "for i, component in enumerate(connected_components):\n",
    "    print(f\"Componente {i+1}: {component}\")"
   ]
  }
 ],
 "metadata": {
  "kernelspec": {
   "display_name": ".venv",
   "language": "python",
   "name": "python3"
  },
  "language_info": {
   "codemirror_mode": {
    "name": "ipython",
    "version": 3
   },
   "file_extension": ".py",
   "mimetype": "text/x-python",
   "name": "python",
   "nbconvert_exporter": "python",
   "pygments_lexer": "ipython3",
   "version": "3.12.2"
  }
 },
 "nbformat": 4,
 "nbformat_minor": 2
}
